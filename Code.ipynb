{
 "cells": [
  {
   "cell_type": "code",
   "execution_count": 37,
   "metadata": {},
   "outputs": [],
   "source": [
    "#import the neccessary libraries for analysis\n",
    "import pandas as pd\n",
    "import numpy as np\n",
    "import matplotlib.pyplot as plt\n",
    "import seaborn as sns\n",
    "from sklearn.model_selection import train_test_split\n",
    "from sklearn.linear_model import LogisticRegression\n",
    "from sklearn.metrics import accuracy_score, f1_score, precision_score, recall_score, classification_report, confusion_matrix\n",
    "from sklearn.ensemble import RandomForestClassifier\n",
    "from sklearn.linear_model import SGDClassifier\n",
    "from sklearn.neighbors import KNeighborsClassifier\n",
    "from sklearn.naive_bayes import GaussianNB\n",
    "from sklearn.decomposition import PCA\n",
    "from xgboost import XGBClassifier\n",
    "from sklearn.svm import SVC\n",
    "import random\n",
    "from sklearn import metrics \n"
   ]
  },
  {
   "cell_type": "code",
   "execution_count": 38,
   "metadata": {},
   "outputs": [
    {
     "data": {
      "text/html": [
       "<div>\n",
       "<style scoped>\n",
       "    .dataframe tbody tr th:only-of-type {\n",
       "        vertical-align: middle;\n",
       "    }\n",
       "\n",
       "    .dataframe tbody tr th {\n",
       "        vertical-align: top;\n",
       "    }\n",
       "\n",
       "    .dataframe thead th {\n",
       "        text-align: right;\n",
       "    }\n",
       "</style>\n",
       "<table border=\"1\" class=\"dataframe\">\n",
       "  <thead>\n",
       "    <tr style=\"text-align: right;\">\n",
       "      <th></th>\n",
       "      <th>Two_yr_Recidivism</th>\n",
       "      <th>Number_of_Priors</th>\n",
       "      <th>score_factor</th>\n",
       "      <th>Age_Above_FourtyFive</th>\n",
       "      <th>Age_Below_TwentyFive</th>\n",
       "      <th>African_American</th>\n",
       "      <th>Asian</th>\n",
       "      <th>Hispanic</th>\n",
       "      <th>Native_American</th>\n",
       "      <th>Other</th>\n",
       "      <th>Female</th>\n",
       "      <th>Misdemeanor</th>\n",
       "    </tr>\n",
       "  </thead>\n",
       "  <tbody>\n",
       "    <tr>\n",
       "      <th>0</th>\n",
       "      <td>0</td>\n",
       "      <td>0</td>\n",
       "      <td>0</td>\n",
       "      <td>1</td>\n",
       "      <td>0</td>\n",
       "      <td>0</td>\n",
       "      <td>0</td>\n",
       "      <td>0</td>\n",
       "      <td>0</td>\n",
       "      <td>1</td>\n",
       "      <td>0</td>\n",
       "      <td>0</td>\n",
       "    </tr>\n",
       "    <tr>\n",
       "      <th>1</th>\n",
       "      <td>1</td>\n",
       "      <td>0</td>\n",
       "      <td>0</td>\n",
       "      <td>0</td>\n",
       "      <td>0</td>\n",
       "      <td>1</td>\n",
       "      <td>0</td>\n",
       "      <td>0</td>\n",
       "      <td>0</td>\n",
       "      <td>0</td>\n",
       "      <td>0</td>\n",
       "      <td>0</td>\n",
       "    </tr>\n",
       "    <tr>\n",
       "      <th>2</th>\n",
       "      <td>1</td>\n",
       "      <td>4</td>\n",
       "      <td>0</td>\n",
       "      <td>0</td>\n",
       "      <td>1</td>\n",
       "      <td>1</td>\n",
       "      <td>0</td>\n",
       "      <td>0</td>\n",
       "      <td>0</td>\n",
       "      <td>0</td>\n",
       "      <td>0</td>\n",
       "      <td>0</td>\n",
       "    </tr>\n",
       "    <tr>\n",
       "      <th>3</th>\n",
       "      <td>0</td>\n",
       "      <td>0</td>\n",
       "      <td>0</td>\n",
       "      <td>0</td>\n",
       "      <td>0</td>\n",
       "      <td>0</td>\n",
       "      <td>0</td>\n",
       "      <td>0</td>\n",
       "      <td>0</td>\n",
       "      <td>1</td>\n",
       "      <td>0</td>\n",
       "      <td>1</td>\n",
       "    </tr>\n",
       "    <tr>\n",
       "      <th>4</th>\n",
       "      <td>1</td>\n",
       "      <td>14</td>\n",
       "      <td>1</td>\n",
       "      <td>0</td>\n",
       "      <td>0</td>\n",
       "      <td>0</td>\n",
       "      <td>0</td>\n",
       "      <td>0</td>\n",
       "      <td>0</td>\n",
       "      <td>0</td>\n",
       "      <td>0</td>\n",
       "      <td>0</td>\n",
       "    </tr>\n",
       "  </tbody>\n",
       "</table>\n",
       "</div>"
      ],
      "text/plain": [
       "   Two_yr_Recidivism  Number_of_Priors  score_factor  Age_Above_FourtyFive  \\\n",
       "0                  0                 0             0                     1   \n",
       "1                  1                 0             0                     0   \n",
       "2                  1                 4             0                     0   \n",
       "3                  0                 0             0                     0   \n",
       "4                  1                14             1                     0   \n",
       "\n",
       "   Age_Below_TwentyFive  African_American  Asian  Hispanic  Native_American  \\\n",
       "0                     0                 0      0         0                0   \n",
       "1                     0                 1      0         0                0   \n",
       "2                     1                 1      0         0                0   \n",
       "3                     0                 0      0         0                0   \n",
       "4                     0                 0      0         0                0   \n",
       "\n",
       "   Other  Female  Misdemeanor  \n",
       "0      1       0            0  \n",
       "1      0       0            0  \n",
       "2      0       0            0  \n",
       "3      1       0            1  \n",
       "4      0       0            0  "
      ]
     },
     "execution_count": 38,
     "metadata": {},
     "output_type": "execute_result"
    }
   ],
   "source": [
    "#reading csv from the url\n",
    "url = 'https://raw.githubusercontent.com/adebayoj/fairml/master/doc/example_notebooks/propublica_data_for_fairml.csv'\n",
    "df = pd.read_csv(url, error_bad_lines=False,sep=',')\n",
    "df.head()"
   ]
  },
  {
   "cell_type": "code",
   "execution_count": 39,
   "metadata": {},
   "outputs": [
    {
     "data": {
      "text/plain": [
       "Two_yr_Recidivism       0\n",
       "Number_of_Priors        0\n",
       "score_factor            0\n",
       "Age_Above_FourtyFive    0\n",
       "Age_Below_TwentyFive    0\n",
       "African_American        0\n",
       "Asian                   0\n",
       "Hispanic                0\n",
       "Native_American         0\n",
       "Other                   0\n",
       "Female                  0\n",
       "Misdemeanor             0\n",
       "dtype: int64"
      ]
     },
     "execution_count": 39,
     "metadata": {},
     "output_type": "execute_result"
    }
   ],
   "source": [
    "#checking for missing data\n",
    "df.isna().sum()"
   ]
  },
  {
   "cell_type": "markdown",
   "metadata": {},
   "source": [
    "From the above line of code we can see there are no missing data points in the data."
   ]
  },
  {
   "cell_type": "markdown",
   "metadata": {},
   "source": [
    "# Data Exploration"
   ]
  },
  {
   "cell_type": "markdown",
   "metadata": {},
   "source": [
    "### Plotting the count of age distribution"
   ]
  },
  {
   "cell_type": "code",
   "execution_count": 40,
   "metadata": {},
   "outputs": [
    {
     "name": "stdout",
     "output_type": "stream",
     "text": [
      "{'Age_Above_FourtyFive': 1293, 'Age_Below_TwentyFive': 1347}\n"
     ]
    },
    {
     "data": {
      "text/plain": [
       "([<matplotlib.axis.XTick at 0x7f280a9db550>,\n",
       "  <matplotlib.axis.XTick at 0x7f280a9db520>],\n",
       " [Text(0, 0, 'Age_Above_FourtyFive'), Text(1, 0, 'Age_Below_TwentyFive')])"
      ]
     },
     "execution_count": 40,
     "metadata": {},
     "output_type": "execute_result"
    },
    {
     "data": {
      "image/png": "[encoded data removed]",
      "text/plain": [
       "<Figure size 432x288 with 1 Axes>"
      ]
     },
     "metadata": {
      "needs_background": "light"
     },
     "output_type": "display_data"
    }
   ],
   "source": [
    "background=['Age_Above_FourtyFive','Age_Below_TwentyFive']\n",
    "lst={}\n",
    "for i in background:\n",
    "    lst[i]=df[i].sum()\n",
    "print(lst)\n",
    "plt.bar(range(len(lst)), list(lst.values()), align='center')\n",
    "plt.xticks(range(len(lst)), list(lst.keys()),rotation=45)"
   ]
  },
  {
   "cell_type": "markdown",
   "metadata": {},
   "source": [
    "### Plotting the count of sex distribution"
   ]
  },
  {
   "cell_type": "code",
   "execution_count": 41,
   "metadata": {},
   "outputs": [
    {
     "data": {
      "text/html": [
       "<div>\n",
       "<style scoped>\n",
       "    .dataframe tbody tr th:only-of-type {\n",
       "        vertical-align: middle;\n",
       "    }\n",
       "\n",
       "    .dataframe tbody tr th {\n",
       "        vertical-align: top;\n",
       "    }\n",
       "\n",
       "    .dataframe thead th {\n",
       "        text-align: right;\n",
       "    }\n",
       "</style>\n",
       "<table border=\"1\" class=\"dataframe\">\n",
       "  <thead>\n",
       "    <tr style=\"text-align: right;\">\n",
       "      <th></th>\n",
       "      <th>% distribution</th>\n",
       "      <th>sex</th>\n",
       "    </tr>\n",
       "  </thead>\n",
       "  <tbody>\n",
       "    <tr>\n",
       "      <th>0</th>\n",
       "      <td>80.962411</td>\n",
       "      <td>Male</td>\n",
       "    </tr>\n",
       "    <tr>\n",
       "      <th>1</th>\n",
       "      <td>19.037589</td>\n",
       "      <td>Female</td>\n",
       "    </tr>\n",
       "  </tbody>\n",
       "</table>\n",
       "</div>"
      ],
      "text/plain": [
       "   % distribution     sex\n",
       "0       80.962411    Male\n",
       "1       19.037589  Female"
      ]
     },
     "execution_count": 41,
     "metadata": {},
     "output_type": "execute_result"
    },
    {
     "data": {
      "image/png": "[encoded data removed]",
      "text/plain": [
       "<Figure size 432x288 with 1 Axes>"
      ]
     },
     "metadata": {
      "needs_background": "light"
     },
     "output_type": "display_data"
    }
   ],
   "source": [
    "mf=pd.DataFrame(df.Female.value_counts()/len(df))*100\n",
    "mf.rename(columns={'Female':\"% distribution\"},inplace=True)\n",
    "mf['sex']=mf.index\n",
    "mf['sex'] = np.where((mf['sex'] == 0), 'Male', 'Female')\n",
    "sns.barplot(x=\"sex\",y=\"% distribution\",data =mf)\n",
    "mf"
   ]
  },
  {
   "cell_type": "markdown",
   "metadata": {},
   "source": [
    "#  2. Convicts who identify as white"
   ]
  },
  {
   "cell_type": "code",
   "execution_count": 42,
   "metadata": {},
   "outputs": [],
   "source": [
    "#taking boolean sum of all other ethnicities to check if the individual elongs to another race\n",
    "df['white_swap']=df.African_American.values+df.Asian.values+df.Hispanic.values+df.Native_American.values+df.Other.values\n",
    "#reversing values of the sm values to get white-1/not-white-1\n",
    "df['white'] = df.white_swap.map( lambda x: 0 if x == 1 else 1)\n",
    "#dropping the original sum colum\n",
    "df.drop(columns='white_swap',inplace=True)"
   ]
  },
  {
   "cell_type": "code",
   "execution_count": 43,
   "metadata": {},
   "outputs": [
    {
     "data": {
      "text/html": [
       "<div>\n",
       "<style scoped>\n",
       "    .dataframe tbody tr th:only-of-type {\n",
       "        vertical-align: middle;\n",
       "    }\n",
       "\n",
       "    .dataframe tbody tr th {\n",
       "        vertical-align: top;\n",
       "    }\n",
       "\n",
       "    .dataframe thead th {\n",
       "        text-align: right;\n",
       "    }\n",
       "</style>\n",
       "<table border=\"1\" class=\"dataframe\">\n",
       "  <thead>\n",
       "    <tr style=\"text-align: right;\">\n",
       "      <th></th>\n",
       "      <th>Two_yr_Recidivism</th>\n",
       "      <th>Number_of_Priors</th>\n",
       "      <th>score_factor</th>\n",
       "      <th>Age_Above_FourtyFive</th>\n",
       "      <th>Age_Below_TwentyFive</th>\n",
       "      <th>African_American</th>\n",
       "      <th>Asian</th>\n",
       "      <th>Hispanic</th>\n",
       "      <th>Native_American</th>\n",
       "      <th>Other</th>\n",
       "      <th>Female</th>\n",
       "      <th>Misdemeanor</th>\n",
       "      <th>white</th>\n",
       "    </tr>\n",
       "  </thead>\n",
       "  <tbody>\n",
       "    <tr>\n",
       "      <th>4</th>\n",
       "      <td>1</td>\n",
       "      <td>14</td>\n",
       "      <td>1</td>\n",
       "      <td>0</td>\n",
       "      <td>0</td>\n",
       "      <td>0</td>\n",
       "      <td>0</td>\n",
       "      <td>0</td>\n",
       "      <td>0</td>\n",
       "      <td>0</td>\n",
       "      <td>0</td>\n",
       "      <td>0</td>\n",
       "      <td>1</td>\n",
       "    </tr>\n",
       "    <tr>\n",
       "      <th>6</th>\n",
       "      <td>0</td>\n",
       "      <td>0</td>\n",
       "      <td>0</td>\n",
       "      <td>0</td>\n",
       "      <td>0</td>\n",
       "      <td>0</td>\n",
       "      <td>0</td>\n",
       "      <td>0</td>\n",
       "      <td>0</td>\n",
       "      <td>0</td>\n",
       "      <td>1</td>\n",
       "      <td>1</td>\n",
       "      <td>1</td>\n",
       "    </tr>\n",
       "    <tr>\n",
       "      <th>7</th>\n",
       "      <td>0</td>\n",
       "      <td>0</td>\n",
       "      <td>0</td>\n",
       "      <td>0</td>\n",
       "      <td>0</td>\n",
       "      <td>0</td>\n",
       "      <td>0</td>\n",
       "      <td>0</td>\n",
       "      <td>0</td>\n",
       "      <td>0</td>\n",
       "      <td>0</td>\n",
       "      <td>0</td>\n",
       "      <td>1</td>\n",
       "    </tr>\n",
       "    <tr>\n",
       "      <th>9</th>\n",
       "      <td>0</td>\n",
       "      <td>0</td>\n",
       "      <td>0</td>\n",
       "      <td>0</td>\n",
       "      <td>0</td>\n",
       "      <td>0</td>\n",
       "      <td>0</td>\n",
       "      <td>0</td>\n",
       "      <td>0</td>\n",
       "      <td>0</td>\n",
       "      <td>1</td>\n",
       "      <td>1</td>\n",
       "      <td>1</td>\n",
       "    </tr>\n",
       "    <tr>\n",
       "      <th>11</th>\n",
       "      <td>1</td>\n",
       "      <td>1</td>\n",
       "      <td>0</td>\n",
       "      <td>1</td>\n",
       "      <td>0</td>\n",
       "      <td>0</td>\n",
       "      <td>0</td>\n",
       "      <td>0</td>\n",
       "      <td>0</td>\n",
       "      <td>0</td>\n",
       "      <td>1</td>\n",
       "      <td>0</td>\n",
       "      <td>1</td>\n",
       "    </tr>\n",
       "  </tbody>\n",
       "</table>\n",
       "</div>"
      ],
      "text/plain": [
       "    Two_yr_Recidivism  Number_of_Priors  score_factor  Age_Above_FourtyFive  \\\n",
       "4                   1                14             1                     0   \n",
       "6                   0                 0             0                     0   \n",
       "7                   0                 0             0                     0   \n",
       "9                   0                 0             0                     0   \n",
       "11                  1                 1             0                     1   \n",
       "\n",
       "    Age_Below_TwentyFive  African_American  Asian  Hispanic  Native_American  \\\n",
       "4                      0                 0      0         0                0   \n",
       "6                      0                 0      0         0                0   \n",
       "7                      0                 0      0         0                0   \n",
       "9                      0                 0      0         0                0   \n",
       "11                     0                 0      0         0                0   \n",
       "\n",
       "    Other  Female  Misdemeanor  white  \n",
       "4       0       0            0      1  \n",
       "6       0       1            1      1  \n",
       "7       0       0            0      1  \n",
       "9       0       1            1      1  \n",
       "11      0       1            0      1  "
      ]
     },
     "execution_count": 43,
     "metadata": {},
     "output_type": "execute_result"
    }
   ],
   "source": [
    "df[df.white==1].head()"
   ]
  },
  {
   "cell_type": "markdown",
   "metadata": {},
   "source": [
    "###  Plotting a distribution of count of the updated racial background"
   ]
  },
  {
   "cell_type": "code",
   "execution_count": 44,
   "metadata": {},
   "outputs": [
    {
     "name": "stdout",
     "output_type": "stream",
     "text": [
      "{'African_American': 3175, 'Asian': 31, 'Hispanic': 509, 'Native_American': 11, 'Other': 343, 'white': 2103}\n"
     ]
    },
    {
     "data": {
      "text/plain": [
       "([<matplotlib.axis.XTick at 0x7f28056ba580>,\n",
       "  <matplotlib.axis.XTick at 0x7f28056ba730>,\n",
       "  <matplotlib.axis.XTick at 0x7f2800e12b80>,\n",
       "  <matplotlib.axis.XTick at 0x7f28056ef460>,\n",
       "  <matplotlib.axis.XTick at 0x7f28056efe20>,\n",
       "  <matplotlib.axis.XTick at 0x7f28056efb80>],\n",
       " [Text(0, 0, 'African_American'),\n",
       "  Text(1, 0, 'Asian'),\n",
       "  Text(2, 0, 'Hispanic'),\n",
       "  Text(3, 0, 'Native_American'),\n",
       "  Text(4, 0, 'Other'),\n",
       "  Text(5, 0, 'white')])"
      ]
     },
     "execution_count": 44,
     "metadata": {},
     "output_type": "execute_result"
    },
    {
     "data": {
      "image/png": "[encoded data removed]",
      "text/plain": [
       "<Figure size 432x288 with 1 Axes>"
      ]
     },
     "metadata": {
      "needs_background": "light"
     },
     "output_type": "display_data"
    }
   ],
   "source": [
    "background=['African_American','Asian','Hispanic','Native_American','Other','white']\n",
    "lst={}\n",
    "for i in background:\n",
    "    lst[i]=df[i].sum()\n",
    "print(lst)\n",
    "plt.bar(range(len(lst)), list(lst.values()), align='center')\n",
    "plt.xticks(range(len(lst)), list(lst.keys()),rotation=45)\n"
   ]
  },
  {
   "cell_type": "markdown",
   "metadata": {},
   "source": [
    "## 3.Add a column to the data set indicating the category of each convict. "
   ]
  },
  {
   "cell_type": "code",
   "execution_count": 45,
   "metadata": {},
   "outputs": [],
   "source": [
    "#a function to update columns based on the range of the numbr of priors\n",
    "def f(c):\n",
    "#return A if the number is 0\n",
    "      if c['Number_of_Priors'] == 0:\n",
    "        return 'A'\n",
    "#return B if the number is between 1-3\n",
    "      elif 0<c['Number_of_Priors']<=3:\n",
    "        return 'B'\n",
    "#return C if the number is between 4-10\n",
    "      elif 3<c['Number_of_Priors']<=10:\n",
    "        return 'C'\n",
    "#return D otherwise\n",
    "      else:\n",
    "        return 'D'"
   ]
  },
  {
   "cell_type": "code",
   "execution_count": 46,
   "metadata": {},
   "outputs": [],
   "source": [
    "# add a new column category and apply the above function to each of the rows\n",
    "df['Category'] = df.apply(f, axis=1)"
   ]
  },
  {
   "cell_type": "code",
   "execution_count": 47,
   "metadata": {},
   "outputs": [
    {
     "data": {
      "text/html": [
       "<div>\n",
       "<style scoped>\n",
       "    .dataframe tbody tr th:only-of-type {\n",
       "        vertical-align: middle;\n",
       "    }\n",
       "\n",
       "    .dataframe tbody tr th {\n",
       "        vertical-align: top;\n",
       "    }\n",
       "\n",
       "    .dataframe thead th {\n",
       "        text-align: right;\n",
       "    }\n",
       "</style>\n",
       "<table border=\"1\" class=\"dataframe\">\n",
       "  <thead>\n",
       "    <tr style=\"text-align: right;\">\n",
       "      <th></th>\n",
       "      <th>Number_of_Priors</th>\n",
       "      <th>Category</th>\n",
       "    </tr>\n",
       "  </thead>\n",
       "  <tbody>\n",
       "    <tr>\n",
       "      <th>0</th>\n",
       "      <td>0</td>\n",
       "      <td>A</td>\n",
       "    </tr>\n",
       "    <tr>\n",
       "      <th>1</th>\n",
       "      <td>0</td>\n",
       "      <td>A</td>\n",
       "    </tr>\n",
       "    <tr>\n",
       "      <th>2</th>\n",
       "      <td>4</td>\n",
       "      <td>C</td>\n",
       "    </tr>\n",
       "    <tr>\n",
       "      <th>3</th>\n",
       "      <td>0</td>\n",
       "      <td>A</td>\n",
       "    </tr>\n",
       "    <tr>\n",
       "      <th>4</th>\n",
       "      <td>14</td>\n",
       "      <td>D</td>\n",
       "    </tr>\n",
       "    <tr>\n",
       "      <th>...</th>\n",
       "      <td>...</td>\n",
       "      <td>...</td>\n",
       "    </tr>\n",
       "    <tr>\n",
       "      <th>6167</th>\n",
       "      <td>0</td>\n",
       "      <td>A</td>\n",
       "    </tr>\n",
       "    <tr>\n",
       "      <th>6168</th>\n",
       "      <td>0</td>\n",
       "      <td>A</td>\n",
       "    </tr>\n",
       "    <tr>\n",
       "      <th>6169</th>\n",
       "      <td>0</td>\n",
       "      <td>A</td>\n",
       "    </tr>\n",
       "    <tr>\n",
       "      <th>6170</th>\n",
       "      <td>3</td>\n",
       "      <td>B</td>\n",
       "    </tr>\n",
       "    <tr>\n",
       "      <th>6171</th>\n",
       "      <td>2</td>\n",
       "      <td>B</td>\n",
       "    </tr>\n",
       "  </tbody>\n",
       "</table>\n",
       "<p>6172 rows × 2 columns</p>\n",
       "</div>"
      ],
      "text/plain": [
       "      Number_of_Priors Category\n",
       "0                    0        A\n",
       "1                    0        A\n",
       "2                    4        C\n",
       "3                    0        A\n",
       "4                   14        D\n",
       "...                ...      ...\n",
       "6167                 0        A\n",
       "6168                 0        A\n",
       "6169                 0        A\n",
       "6170                 3        B\n",
       "6171                 2        B\n",
       "\n",
       "[6172 rows x 2 columns]"
      ]
     },
     "execution_count": 47,
     "metadata": {},
     "output_type": "execute_result"
    }
   ],
   "source": [
    "df[['Number_of_Priors','Category']]"
   ]
  },
  {
   "attachments": {
    "00d8a764-d65e-4ab6-89e0-d36ef1d454f8.png": {
     "image/png": "[encoded data removed]"
    },
    "06b69caf-da41-40da-8e86-c1822010799f.png": {
     "image/png": "[encoded data removed]"
    },
    "1ba6e1a6-12a1-4128-a40a-6ff315dc3f66.png": {
     "image/png": "[encoded data removed]"
    },
    "41af5e91-1891-4faa-9e4a-ce35ef461fd1.png": {
     "image/png": "[encoded data removed]"
    }
   },
   "cell_type": "markdown",
   "metadata": {},
   "source": [
    "## 4.\tRun regression models to determine the influence of the variables ![image.png](attachment:06b69caf-da41-40da-8e86-c1822010799f.png)![image.png](attachment:1ba6e1a6-12a1-4128-a40a-6ff315dc3f66.png)![image.png](attachment:41af5e91-1891-4faa-9e4a-ce35ef461fd1.png)![image.png](attachment:00d8a764-d65e-4ab6-89e0-d36ef1d454f8.png)"
   ]
  },
  {
   "cell_type": "markdown",
   "metadata": {},
   "source": [
    "## on actual recidivism"
   ]
  },
  {
   "cell_type": "code",
   "execution_count": 48,
   "metadata": {},
   "outputs": [
    {
     "data": {
      "text/plain": [
       "Number_of_Priors        int64\n",
       "Age_Below_TwentyFive    int64\n",
       "African_American        int64\n",
       "Hispanic                int64\n",
       "Native_American         int64\n",
       "Female                  int64\n",
       "Misdemeanor             int64\n",
       "Two_yr_Recidivism       int64\n",
       "dtype: object"
      ]
     },
     "execution_count": 48,
     "metadata": {},
     "output_type": "execute_result"
    }
   ],
   "source": [
    "#splitting data to exclude score_factor\n",
    "mdata=df[['Number_of_Priors','Age_Below_TwentyFive','African_American','Hispanic','Native_American','Female','Misdemeanor','Two_yr_Recidivism']]\n",
    "mdata.dtypes"
   ]
  },
  {
   "cell_type": "markdown",
   "metadata": {},
   "source": [
    "## on model predicted recidivism"
   ]
  },
  {
   "cell_type": "code",
   "execution_count": 49,
   "metadata": {},
   "outputs": [
    {
     "data": {
      "text/plain": [
       "Number_of_Priors        int64\n",
       "Age_Below_TwentyFive    int64\n",
       "African_American        int64\n",
       "Hispanic                int64\n",
       "Native_American         int64\n",
       "Female                  int64\n",
       "Misdemeanor             int64\n",
       "score_factor            int64\n",
       "dtype: object"
      ]
     },
     "execution_count": 49,
     "metadata": {},
     "output_type": "execute_result"
    }
   ],
   "source": [
    "#splitting data to exclude two_yr_recidivism\n",
    "sdata=df[['Number_of_Priors','Age_Below_TwentyFive','African_American','Hispanic','Native_American','Female','Misdemeanor','score_factor']]\n",
    "sdata.dtypes"
   ]
  },
  {
   "cell_type": "markdown",
   "metadata": {},
   "source": [
    "### 4.1. Logistic Regression to predict two_yr_recidivim"
   ]
  },
  {
   "cell_type": "code",
   "execution_count": 51,
   "metadata": {},
   "outputs": [
    {
     "name": "stderr",
     "output_type": "stream",
     "text": [
      "/opt/conda/lib/python3.8/site-packages/sklearn/utils/validation.py:72: DataConversionWarning: A column-vector y was passed when a 1d array was expected. Please change the shape of y to (n_samples, ), for example using ravel().\n",
      "  return f(**kwargs)\n"
     ]
    },
    {
     "name": "stdout",
     "output_type": "stream",
     "text": [
      "f1_score 0.6588399816022565\n",
      "precision 0.6679312261326353\n",
      "recall_score 0.6586925362817285\n",
      "[[648 194]\n",
      " [317 384]]\n"
     ]
    },
    {
     "data": {
      "image/png": "[encoded data removed]",
      "text/plain": [
       "<Figure size 576x576 with 1 Axes>"
      ]
     },
     "metadata": {
      "needs_background": "light"
     },
     "output_type": "display_data"
    }
   ],
   "source": [
    "X=mdata[['Number_of_Priors','Age_Below_TwentyFive','African_American','Hispanic','Native_American','Female','Misdemeanor']]\n",
    "y=mdata[['Two_yr_Recidivism']]\n",
    "X_train,X_test,y_train,y_test=train_test_split(X,y,test_size=0.25)\n",
    "# Create an instance of the model. \n",
    "logreg = LogisticRegression() \n",
    "# Training the model. \n",
    "logreg.fit(X_train,y_train) \n",
    "# Do prediction. \n",
    "y_pred=logreg.predict(X_test)\n",
    "print(\"f1_score\",f1_score(y_test, y_pred, average=\"macro\"))\n",
    "print(\"precision\",precision_score(y_test, y_pred, average=\"macro\"))\n",
    "print(\"recall_score\",recall_score(y_test, y_pred, average=\"macro\"))\n",
    "\n",
    "#compute the feature scores\n",
    "feature_scores = pd.Series(logreg.coef_[0], index=X_train.columns).sort_values(ascending=False)\n",
    "feature_scores\n",
    "\n",
    "# Analyzing the results by computing the confusion matrix\n",
    "random.seed(1234)\n",
    "cnf_matrix = metrics.confusion_matrix(y_test, y_pred)\n",
    "print(cnf_matrix)\n",
    "\n",
    "\n",
    "# Creating a seaborn bar plot of feature importance\n",
    "f, ax = plt.subplots(figsize=(8,8))\n",
    "ax = sns.barplot(x=feature_scores, y=feature_scores.index)\n",
    "ax.set_title(\"Visualize feature scores of the features\")\n",
    "ax.set_yticklabels(feature_scores.index)\n",
    "ax.set_xlabel(\"Feature importance score\")\n",
    "ax.set_ylabel(\"Features\")\n",
    "plt.show()"
   ]
  },
  {
   "cell_type": "markdown",
   "metadata": {},
   "source": [
    "Results from the model:\n",
    "Age has strong influence on prediction.\n",
    "Race(African-American) and number of priors have almost the same importance. The features could be correlated or there is a bias present in the model"
   ]
  },
  {
   "cell_type": "markdown",
   "metadata": {},
   "source": [
    "#  4.1.1  Feature  correlation plot"
   ]
  },
  {
   "cell_type": "code",
   "execution_count": 16,
   "metadata": {},
   "outputs": [
    {
     "data": {
      "text/plain": [
       "<AxesSubplot:>"
      ]
     },
     "execution_count": 16,
     "metadata": {},
     "output_type": "execute_result"
    },
    {
     "data": {
      "image/png": "[encoded data removed]",
      "text/plain": [
       "<Figure size 792x648 with 2 Axes>"
      ]
     },
     "metadata": {
      "needs_background": "light"
     },
     "output_type": "display_data"
    }
   ],
   "source": [
    "corr = mdata.corr()\n",
    "# Set up the matplotlib figure\n",
    "f, ax = plt.subplots(figsize=(11, 9))\n",
    "\n",
    "# Generate a custom diverging colormap\n",
    "cmap = sns.diverging_palette(230, 20, as_cmap=True)\n",
    "\n",
    "# Draw the heatmap with the mask and correct aspect ratio\n",
    "sns.heatmap(corr, cmap=cmap, vmax=.3, center=0,\n",
    "            square=True, linewidths=.5, cbar_kws={\"shrink\": .5})"
   ]
  },
  {
   "cell_type": "markdown",
   "metadata": {},
   "source": [
    "\n",
    "Number of priors ,age below 25 and African amercican have strong positive correlation with two year recidivism,whereas female and misdemenour seem to have negative correlation\n",
    "\n",
    "Number of priors and two years recidivism has high correlation with african american\n",
    "\n",
    "The problem of co-linearity exists in our dataset -in the logistic regression model Age_Below_TwentyFive and African_American are closely linked, so it reduces the importance of the previous priors features, we can instead try non linear models such as decision tree"
   ]
  },
  {
   "cell_type": "markdown",
   "metadata": {},
   "source": [
    "### 4.2. Non-Linear models to classify two year recidivism"
   ]
  },
  {
   "cell_type": "code",
   "execution_count": 17,
   "metadata": {},
   "outputs": [
    {
     "name": "stdout",
     "output_type": "stream",
     "text": [
      "RandomForestClassifier(random_state=0) results:\n",
      "Model accuracy score\n",
      "f1_score 0.6339075716938312\n",
      "precision 0.6416668145912843\n",
      "recall_score 0.6347557248557177\n",
      "[16:45:46] WARNING: ../src/learner.cc:1061: Starting in XGBoost 1.3.0, the default evaluation metric used with the objective 'binary:logistic' was changed from 'error' to 'logloss'. Explicitly set eval_metric if you'd like to restore the old behavior.\n",
      "XGBClassifier(base_score=0.5, booster='gbtree', colsample_bylevel=1,\n",
      "              colsample_bynode=1, colsample_bytree=1, gamma=0, gpu_id=-1,\n",
      "              importance_type='gain', interaction_constraints='',\n",
      "              learning_rate=0.300000012, max_delta_step=0, max_depth=6,\n",
      "              min_child_weight=1, missing=nan, monotone_constraints='()',\n",
      "              n_estimators=100, n_jobs=6, num_parallel_tree=1, random_state=0,\n",
      "              reg_alpha=0, reg_lambda=1, scale_pos_weight=1, subsample=1,\n",
      "              tree_method='exact', use_label_encoder=False,\n",
      "              validate_parameters=1, verbosity=None) results:\n",
      "Model accuracy score\n",
      "f1_score 0.635662161370272\n",
      "precision 0.6449647714707956\n",
      "recall_score 0.6368089395888843\n",
      "GaussianNB() results:\n",
      "Model accuracy score\n",
      "f1_score 0.6022586902148945\n",
      "precision 0.6042939243250685\n",
      "recall_score 0.6023441431036637\n",
      "SVC() results:\n",
      "Model accuracy score\n",
      "f1_score 0.6405661684476696\n",
      "precision 0.6532243989702866\n",
      "recall_score 0.6423100691946872\n",
      "KNeighborsClassifier() results:\n",
      "Model accuracy score\n",
      "f1_score 0.6258868868357919\n",
      "precision 0.6281888259889533\n",
      "recall_score 0.6257923281361335\n"
     ]
    }
   ],
   "source": [
    "X=mdata[['Number_of_Priors','Age_Below_TwentyFive','African_American','Hispanic','Native_American','Female','Misdemeanor']]\n",
    "y=mdata[['Two_yr_Recidivism']]\n",
    "X_train,X_test,y_train,y_test=train_test_split(X,y,test_size=0.25)\n",
    "clf = RandomForestClassifier(n_estimators=100, random_state=0)\n",
    "xgb = XGBClassifier(n_estimators=100,use_label_encoder=False,base_score=0.5, booster='gbtree', colsample_bylevel=1,\n",
    "              colsample_bynode=1, colsample_bytree=1, gamma=0, gpu_id=-1,\n",
    "              importance_type='gain', interaction_constraints='',\n",
    "              learning_rate=0.300000012, max_delta_step=0, max_depth=6,\n",
    "              min_child_weight=1,  monotone_constraints='()',\n",
    "               n_jobs=6, num_parallel_tree=1, random_state=0,\n",
    "              reg_alpha=0, reg_lambda=1, scale_pos_weight=1, subsample=1,\n",
    "              tree_method='exact', \n",
    "              validate_parameters=1, verbosity=None)\n",
    "gnb = GaussianNB()\n",
    "svc = SVC()\n",
    "knn = KNeighborsClassifier()\n",
    "lst={}\n",
    "\n",
    "models=[clf,xgb,gnb,svc,knn]\n",
    "\n",
    "for m in models:\n",
    "# fit the model to the training set\n",
    "    m.fit(X_train, y_train.values.ravel())\n",
    "    # Do prediction. \n",
    "    y_pred=m.predict(X_test)\n",
    "    print(m, \"results:\")\n",
    "    print('Model accuracy score'. format(accuracy_score(y_test, y_pred)))\n",
    "    print(\"f1_score\",f1_score(y_test, y_pred, average=\"macro\"))\n",
    "    print(\"precision\",precision_score(y_test, y_pred, average=\"macro\"))\n",
    "    print(\"recall_score\",recall_score(y_test, y_pred, average=\"macro\"))\n",
    "    lst[m]=f1_score(y_test, y_pred, average=\"macro\")"
   ]
  },
  {
   "cell_type": "code",
   "execution_count": 18,
   "metadata": {},
   "outputs": [
    {
     "data": {
      "text/plain": [
       "([<matplotlib.axis.XTick at 0x7f2805809310>,\n",
       "  <matplotlib.axis.XTick at 0x7f2805809430>,\n",
       "  <matplotlib.axis.XTick at 0x7f28056268e0>,\n",
       "  <matplotlib.axis.XTick at 0x7f28057b1ac0>,\n",
       "  <matplotlib.axis.XTick at 0x7f28057b1fd0>],\n",
       " [Text(0, 0, 'RandomForestClassifier(random_state=0)'),\n",
       "  Text(1, 0, \"XGBClassifier(base_score=0.5, booster='gbtree', colsample_bylevel=1,\\n              colsample_bynode=1, colsample_bytree=1, gamma=0, gpu_id=-1,\\n              importance_type='gain', interaction_constraints='',\\n              learning_rate=0.300000012, max_delta_step=0, max_depth=6,\\n              min_child_weight=1, missing=nan, monotone_constraints='()',\\n              n_estimators=100, n_jobs=6, num_parallel_tree=1, random_state=0,\\n              reg_alpha=0, reg_lambda=1, scale_pos_weight=1, subsample=1,\\n              tree_method='exact', use_label_encoder=False,\\n              validate_parameters=1, verbosity=None)\"),\n",
       "  Text(2, 0, 'GaussianNB()'),\n",
       "  Text(3, 0, 'SVC()'),\n",
       "  Text(4, 0, 'KNeighborsClassifier()')])"
      ]
     },
     "execution_count": 18,
     "metadata": {},
     "output_type": "execute_result"
    },
    {
     "data": {
      "image/png": "[encoded data removed]",
      "text/plain": [
       "<Figure size 432x288 with 1 Axes>"
      ]
     },
     "metadata": {
      "needs_background": "light"
     },
     "output_type": "display_data"
    }
   ],
   "source": [
    "plt.bar(range(len(lst)), list(lst.values()), align='center')\n",
    "plt.xticks(range(len(lst)), list(lst.keys()),rotation=90)"
   ]
  },
  {
   "cell_type": "code",
   "execution_count": 19,
   "metadata": {},
   "outputs": [
    {
     "data": {
      "text/plain": [
       "Number_of_Priors        0.670484\n",
       "Age_Below_TwentyFive    0.127998\n",
       "African_American        0.065336\n",
       "Female                  0.065322\n",
       "Misdemeanor             0.045575\n",
       "Hispanic                0.021291\n",
       "Native_American         0.003994\n",
       "dtype: float64"
      ]
     },
     "execution_count": 19,
     "metadata": {},
     "output_type": "execute_result"
    }
   ],
   "source": [
    "#getting the feature score from the model\n",
    "feature_scores = pd.Series(clf.feature_importances_, index=X_train.columns).sort_values(ascending=False)\n",
    "feature_scores"
   ]
  },
  {
   "cell_type": "code",
   "execution_count": 20,
   "metadata": {},
   "outputs": [
    {
     "data": {
      "image/png": "[encoded data removed]",
      "text/plain": [
       "<Figure size 576x576 with 1 Axes>"
      ]
     },
     "metadata": {
      "needs_background": "light"
     },
     "output_type": "display_data"
    }
   ],
   "source": [
    "# Creating a seaborn bar plot\n",
    "f, ax = plt.subplots(figsize=(8,8))\n",
    "ax = sns.barplot(x=feature_scores, y=feature_scores.index)\n",
    "ax.set_title(\"Visualize feature scores of the features\")\n",
    "ax.set_yticklabels(feature_scores.index)\n",
    "ax.set_xlabel(\"Feature importance score\")\n",
    "ax.set_ylabel(\"Features\")\n",
    "plt.show()"
   ]
  },
  {
   "cell_type": "markdown",
   "metadata": {},
   "source": [
    "## 4.3. Logistic regression to predict score_factor"
   ]
  },
  {
   "cell_type": "code",
   "execution_count": 21,
   "metadata": {},
   "outputs": [
    {
     "name": "stderr",
     "output_type": "stream",
     "text": [
      "/opt/conda/lib/python3.8/site-packages/sklearn/utils/validation.py:72: DataConversionWarning: A column-vector y was passed when a 1d array was expected. Please change the shape of y to (n_samples, ), for example using ravel().\n",
      "  return f(**kwargs)\n"
     ]
    },
    {
     "name": "stdout",
     "output_type": "stream",
     "text": [
      "f1_score 0.7323341514103283\n",
      "precision 0.7400420661729223\n",
      "recall_score 0.7315782815504503\n"
     ]
    },
    {
     "data": {
      "image/png": "[encoded data removed]",
      "text/plain": [
       "<Figure size 576x576 with 1 Axes>"
      ]
     },
     "metadata": {
      "needs_background": "light"
     },
     "output_type": "display_data"
    }
   ],
   "source": [
    "X=sdata[['Number_of_Priors','Age_Below_TwentyFive','African_American','Hispanic','Native_American','Female','Misdemeanor']]\n",
    "y=sdata[['score_factor']]\n",
    "X_train,X_test,y_train,y_test=train_test_split(X,y,test_size=0.25)\n",
    "# Create an instance of the model. \n",
    "logreg = LogisticRegression() \n",
    "# Training the model. \n",
    "logreg.fit(X_train,y_train) \n",
    "# Do prediction. \n",
    "y_pred=logreg.predict(X_test)\n",
    "print(\"f1_score\",f1_score(y_test, y_pred, average=\"macro\"))\n",
    "print(\"precision\",precision_score(y_test, y_pred, average=\"macro\"))\n",
    "print(\"recall_score\",recall_score(y_test, y_pred, average=\"macro\"))\n",
    "\n",
    "\n",
    "feature_scores = pd.Series(logreg.coef_[0], index=X_train.columns).sort_values(ascending=False)\n",
    "feature_scores\n",
    "# Creating a seaborn bar plot\n",
    "\n",
    "f, ax = plt.subplots(figsize=(8,8))\n",
    "ax = sns.barplot(x=feature_scores, y=feature_scores.index)\n",
    "ax.set_title(\"Visualize feature scores of the features\")\n",
    "ax.set_yticklabels(feature_scores.index)\n",
    "ax.set_xlabel(\"Feature importance score\")\n",
    "ax.set_ylabel(\"Features\")\n",
    "plt.show()"
   ]
  },
  {
   "cell_type": "markdown",
   "metadata": {},
   "source": [
    "## 4.4. Non-linear models to predict score_factor"
   ]
  },
  {
   "cell_type": "markdown",
   "metadata": {},
   "source": [
    "## "
   ]
  },
  {
   "cell_type": "code",
   "execution_count": 22,
   "metadata": {},
   "outputs": [
    {
     "name": "stdout",
     "output_type": "stream",
     "text": [
      "RandomForestClassifier(random_state=0) results:\n",
      "Model accuracy score with 100 decision-trees : 0.7472\n",
      "f1_score 0.7393228814704689\n",
      "precision 0.7442871240021851\n",
      "recall_score 0.7370943687938896\n",
      "[16:45:49] WARNING: ../src/learner.cc:1061: Starting in XGBoost 1.3.0, the default evaluation metric used with the objective 'binary:logistic' was changed from 'error' to 'logloss'. Explicitly set eval_metric if you'd like to restore the old behavior.\n",
      "XGBClassifier(base_score=0.5, booster='gbtree', colsample_bylevel=1,\n",
      "              colsample_bynode=1, colsample_bytree=1, gamma=0, gpu_id=-1,\n",
      "              importance_type='gain', interaction_constraints='',\n",
      "              learning_rate=0.300000012, max_delta_step=0, max_depth=6,\n",
      "              min_child_weight=1, missing=nan, monotone_constraints='()',\n",
      "              n_estimators=100, n_jobs=6, num_parallel_tree=1, random_state=0,\n",
      "              reg_alpha=0, reg_lambda=1, scale_pos_weight=1, subsample=1,\n",
      "              tree_method='exact', use_label_encoder=False,\n",
      "              validate_parameters=1, verbosity=None) results:\n",
      "Model accuracy score with 100 decision-trees : 0.7511\n",
      "f1_score 0.7433332986786156\n",
      "precision 0.7483656099666954\n",
      "recall_score 0.7410527683998454\n",
      "GaussianNB() results:\n",
      "Model accuracy score with 100 decision-trees : 0.7187\n",
      "f1_score 0.7010736426357363\n",
      "precision 0.7230994556162132\n",
      "recall_score 0.6987751109104405\n",
      "SVC() results:\n",
      "Model accuracy score with 100 decision-trees : 0.7492\n",
      "f1_score 0.7449040924895198\n",
      "precision 0.7447029738469471\n",
      "recall_score 0.745121479854833\n",
      "KNeighborsClassifier() results:\n",
      "Model accuracy score with 100 decision-trees : 0.7012\n",
      "f1_score 0.6951461969507035\n",
      "precision 0.6956719003492178\n",
      "recall_score 0.6947235020677058\n"
     ]
    }
   ],
   "source": [
    "X=sdata[['Number_of_Priors','Age_Below_TwentyFive','African_American','Hispanic','Native_American','Female','Misdemeanor']]\n",
    "y=sdata[['score_factor']]\n",
    "X_train,X_test,y_train,y_test=train_test_split(X,y,test_size=0.25)\n",
    "clf = RandomForestClassifier(n_estimators=100, random_state=0)\n",
    "xgb = XGBClassifier(n_estimators=100,use_label_encoder=False,base_score=0.5, booster='gbtree', colsample_bylevel=1,\n",
    "              colsample_bynode=1, colsample_bytree=1, gamma=0, gpu_id=-1,\n",
    "              importance_type='gain', interaction_constraints='',\n",
    "              learning_rate=0.300000012, max_delta_step=0, max_depth=6,\n",
    "              min_child_weight=1,  monotone_constraints='()',\n",
    "               n_jobs=6, num_parallel_tree=1, random_state=0,\n",
    "              reg_alpha=0, reg_lambda=1, scale_pos_weight=1, subsample=1,\n",
    "              tree_method='exact', \n",
    "              validate_parameters=1, verbosity=None)\n",
    "gnb = GaussianNB()\n",
    "svc = SVC()\n",
    "knn = KNeighborsClassifier()\n",
    "lst={}\n",
    "\n",
    "models=[clf,xgb,gnb,svc,knn]\n",
    "\n",
    "for m in models:\n",
    "# fit the model to the training set\n",
    "    m.fit(X_train, y_train.values.ravel())\n",
    "    # Do prediction. \n",
    "    y_pred=m.predict(X_test)\n",
    "    print(m, \"results:\")\n",
    "    print('Model accuracy score with 100 decision-trees : {0:0.4f}'. format(accuracy_score(y_test, y_pred)))\n",
    "    print(\"f1_score\",f1_score(y_test, y_pred, average=\"macro\"))\n",
    "    print(\"precision\",precision_score(y_test, y_pred, average=\"macro\"))\n",
    "    print(\"recall_score\",recall_score(y_test, y_pred, average=\"macro\"))\n",
    "    lst[m]=precision_score(y_test, y_pred, average=\"macro\")\n"
   ]
  },
  {
   "cell_type": "code",
   "execution_count": 23,
   "metadata": {},
   "outputs": [
    {
     "data": {
      "text/plain": [
       "Number_of_Priors        0.569390\n",
       "Age_Below_TwentyFive    0.180937\n",
       "African_American        0.143086\n",
       "Misdemeanor             0.056995\n",
       "Female                  0.024841\n",
       "Hispanic                0.020554\n",
       "Native_American         0.004197\n",
       "dtype: float64"
      ]
     },
     "execution_count": 23,
     "metadata": {},
     "output_type": "execute_result"
    }
   ],
   "source": [
    "feature_scores = pd.Series(clf.feature_importances_, index=X_train.columns).sort_values(ascending=False)\n",
    "feature_scores"
   ]
  },
  {
   "cell_type": "code",
   "execution_count": 24,
   "metadata": {},
   "outputs": [
    {
     "data": {
      "image/png": "[encoded data removed]",
      "text/plain": [
       "<Figure size 576x576 with 1 Axes>"
      ]
     },
     "metadata": {
      "needs_background": "light"
     },
     "output_type": "display_data"
    }
   ],
   "source": [
    "# Creating a seaborn bar plot\n",
    "f, ax = plt.subplots(figsize=(8,8))\n",
    "ax = sns.barplot(x=feature_scores, y=feature_scores.index)\n",
    "ax.set_title(\"Visualize feature scores of the features\")\n",
    "ax.set_yticklabels(feature_scores.index)\n",
    "ax.set_xlabel(\"Feature importance score\")\n",
    "ax.set_ylabel(\"Features\")\n",
    "plt.show()"
   ]
  },
  {
   "cell_type": "markdown",
   "metadata": {},
   "source": [
    "## CHI- Square Test for feature importance"
   ]
  },
  {
   "cell_type": "code",
   "execution_count": 25,
   "metadata": {},
   "outputs": [
    {
     "name": "stdout",
     "output_type": "stream",
     "text": [
      "                  Specs        Score\n",
      "0      Number_of_Priors  3612.507831\n",
      "1  Age_Below_TwentyFive    59.478137\n",
      "2      African_American    59.253526\n",
      "6           Misdemeanor    57.485187\n",
      "5                Female    50.884624\n",
      "3              Hispanic    14.415053\n",
      "4       Native_American     0.000015\n"
     ]
    }
   ],
   "source": [
    "from sklearn.feature_selection import SelectKBest\n",
    "from sklearn.feature_selection import chi2\n",
    "\n",
    "X=mdata[['Number_of_Priors','Age_Below_TwentyFive','African_American','Hispanic','Native_American','Female','Misdemeanor']]\n",
    "y=mdata[['Two_yr_Recidivism']]\n",
    "#apply SelectKBest class to extract top 10 best features\n",
    "bestfeatures = SelectKBest(score_func=chi2, k=7)\n",
    "fit = bestfeatures.fit(X,y)\n",
    "dfscores = pd.DataFrame(fit.scores_)\n",
    "dfcolumns = pd.DataFrame(X.columns)\n",
    "#concat two dataframes for better visualization \n",
    "featureScores = pd.concat([dfcolumns,dfscores],axis=1)\n",
    "featureScores.columns = ['Specs','Score']  #naming the dataframe columns\n",
    "print(featureScores.nlargest(7,'Score'))  #print 10 best features"
   ]
  },
  {
   "cell_type": "markdown",
   "metadata": {},
   "source": [
    "# 6. Identifying biases in model results"
   ]
  },
  {
   "cell_type": "markdown",
   "metadata": {},
   "source": [
    "# Analysis for population where model identifies false positives"
   ]
  },
  {
   "cell_type": "markdown",
   "metadata": {},
   "source": [
    "## Analysis of racial background"
   ]
  },
  {
   "cell_type": "code",
   "execution_count": 26,
   "metadata": {},
   "outputs": [
    {
     "name": "stdout",
     "output_type": "stream",
     "text": [
      "{'African_American': 641, 'Asian': 2, 'Hispanic': 62, 'Native_American': 3, 'Other': 28, 'white': 282}\n"
     ]
    },
    {
     "data": {
      "text/plain": [
       "([<matplotlib.axis.XTick at 0x7f2800dcc6d0>,\n",
       "  <matplotlib.axis.XTick at 0x7f2800dcc6a0>,\n",
       "  <matplotlib.axis.XTick at 0x7f2800dca310>,\n",
       "  <matplotlib.axis.XTick at 0x7f2800d83190>,\n",
       "  <matplotlib.axis.XTick at 0x7f2800d836a0>,\n",
       "  <matplotlib.axis.XTick at 0x7f2800d83af0>],\n",
       " [Text(0, 0, 'African_American'),\n",
       "  Text(1, 0, 'Asian'),\n",
       "  Text(2, 0, 'Hispanic'),\n",
       "  Text(3, 0, 'Native_American'),\n",
       "  Text(4, 0, 'Other'),\n",
       "  Text(5, 0, 'white')])"
      ]
     },
     "execution_count": 26,
     "metadata": {},
     "output_type": "execute_result"
    },
    {
     "data": {
      "image/png": "[encoded data removed]",
      "text/plain": [
       "<Figure size 432x288 with 1 Axes>"
      ]
     },
     "metadata": {
      "needs_background": "light"
     },
     "output_type": "display_data"
    }
   ],
   "source": [
    "#extrating rows where score_factor dont match Two_yr_Recidivism\n",
    "df1=df[df['score_factor']!=df['Two_yr_Recidivism']]\n",
    "\n",
    "#extrating rows where the model inaccurately predicts a person guilty\n",
    "g=df1[df1.score_factor==1]\n",
    "#analysing the backgroung information\n",
    "background=['African_American','Asian','Hispanic','Native_American','Other','white']\n",
    "lst={}\n",
    "for i in background:\n",
    "    lst[i]=g[i].sum()\n",
    "print(lst)\n",
    "plt.bar(range(len(lst)), list(lst.values()), align='center')\n",
    "plt.xticks(range(len(lst)), list(lst.keys()),rotation=45)"
   ]
  },
  {
   "cell_type": "code",
   "execution_count": 27,
   "metadata": {},
   "outputs": [
    {
     "data": {
      "text/html": [
       "<div>\n",
       "<style scoped>\n",
       "    .dataframe tbody tr th:only-of-type {\n",
       "        vertical-align: middle;\n",
       "    }\n",
       "\n",
       "    .dataframe tbody tr th {\n",
       "        vertical-align: top;\n",
       "    }\n",
       "\n",
       "    .dataframe thead th {\n",
       "        text-align: right;\n",
       "    }\n",
       "</style>\n",
       "<table border=\"1\" class=\"dataframe\">\n",
       "  <thead>\n",
       "    <tr style=\"text-align: right;\">\n",
       "      <th></th>\n",
       "      <th>ethnicities</th>\n",
       "      <th>% ethnicity</th>\n",
       "    </tr>\n",
       "  </thead>\n",
       "  <tbody>\n",
       "    <tr>\n",
       "      <th>0</th>\n",
       "      <td>African_American</td>\n",
       "      <td>62.966601</td>\n",
       "    </tr>\n",
       "    <tr>\n",
       "      <th>5</th>\n",
       "      <td>white</td>\n",
       "      <td>27.701375</td>\n",
       "    </tr>\n",
       "    <tr>\n",
       "      <th>2</th>\n",
       "      <td>Hispanic</td>\n",
       "      <td>6.090373</td>\n",
       "    </tr>\n",
       "    <tr>\n",
       "      <th>4</th>\n",
       "      <td>Other</td>\n",
       "      <td>2.750491</td>\n",
       "    </tr>\n",
       "    <tr>\n",
       "      <th>3</th>\n",
       "      <td>Native_American</td>\n",
       "      <td>0.294695</td>\n",
       "    </tr>\n",
       "    <tr>\n",
       "      <th>1</th>\n",
       "      <td>Asian</td>\n",
       "      <td>0.196464</td>\n",
       "    </tr>\n",
       "  </tbody>\n",
       "</table>\n",
       "</div>"
      ],
      "text/plain": [
       "        ethnicities  % ethnicity\n",
       "0  African_American    62.966601\n",
       "5             white    27.701375\n",
       "2          Hispanic     6.090373\n",
       "4             Other     2.750491\n",
       "3   Native_American     0.294695\n",
       "1             Asian     0.196464"
      ]
     },
     "execution_count": 27,
     "metadata": {},
     "output_type": "execute_result"
    }
   ],
   "source": [
    "#constructing a dataframe from the dictionary obtained above\n",
    "orient=pd.DataFrame.from_dict(lst, orient='index', dtype=None, columns=['count'])\n",
    "orient['ethnicities']=orient.index\n",
    "orient['% ethnicity']=(orient['count']/orient['count'].sum())*100\n",
    "orient.reset_index(drop=True, inplace=True)\n",
    "orient.sort_values(by=['% ethnicity'], ascending=False)[['ethnicities','% ethnicity']]"
   ]
  },
  {
   "cell_type": "markdown",
   "metadata": {},
   "source": [
    "## Analysis of age"
   ]
  },
  {
   "cell_type": "code",
   "execution_count": 28,
   "metadata": {},
   "outputs": [
    {
     "name": "stdout",
     "output_type": "stream",
     "text": [
      "Age_Above_FourtyFive: 26.62 %\n",
      "Age_Below_TwentyFive: 73.38 %\n"
     ]
    }
   ],
   "source": [
    "ageg=g[['Age_Above_FourtyFive','Age_Below_TwentyFive']]\n",
    "print(\"Age_Above_FourtyFive:\",np.round(ageg.Age_Above_FourtyFive.sum()/(ageg.Age_Above_FourtyFive.sum()+ageg.Age_Below_TwentyFive.sum())*100,2),\"%\")\n",
    "print(\"Age_Below_TwentyFive:\",np.round(ageg.Age_Below_TwentyFive.sum()/(ageg.Age_Above_FourtyFive.sum()+ageg.Age_Below_TwentyFive.sum())*100,2),\"%\")"
   ]
  },
  {
   "cell_type": "code",
   "execution_count": 29,
   "metadata": {},
   "outputs": [
    {
     "data": {
      "text/plain": [
       "<AxesSubplot:xlabel='ethnicities', ylabel='% ethnicity'>"
      ]
     },
     "execution_count": 29,
     "metadata": {},
     "output_type": "execute_result"
    },
    {
     "data": {
      "image/png": "[encoded data removed]",
      "text/plain": [
       "<Figure size 432x288 with 1 Axes>"
      ]
     },
     "metadata": {
      "needs_background": "light"
     },
     "output_type": "display_data"
    }
   ],
   "source": [
    "sns.barplot(x=orient['ethnicities'], y=orient['% ethnicity'])"
   ]
  },
  {
   "cell_type": "markdown",
   "metadata": {},
   "source": [
    "# Analysis for population where model identifies false negatives"
   ]
  },
  {
   "cell_type": "code",
   "execution_count": 30,
   "metadata": {},
   "outputs": [
    {
     "name": "stdout",
     "output_type": "stream",
     "text": [
      "{'African_American': 473, 'Asian': 3, 'Hispanic': 110, 'Native_American': 0, 'Other': 82, 'white': 408}\n"
     ]
    }
   ],
   "source": [
    "#extrating rows where the model inaccurately predicts a person non-guilty\n",
    "\n",
    "ng=df1[df1.score_factor==0]\n",
    "\n",
    "background=['African_American','Asian','Hispanic','Native_American','Other','white']\n",
    "lst1={}\n",
    "for i in background:\n",
    "    lst1[i]=ng[i].sum()\n",
    "print(lst1)\n"
   ]
  },
  {
   "cell_type": "markdown",
   "metadata": {},
   "source": [
    "## Analysis of racial background"
   ]
  },
  {
   "cell_type": "code",
   "execution_count": 31,
   "metadata": {},
   "outputs": [
    {
     "data": {
      "text/html": [
       "<div>\n",
       "<style scoped>\n",
       "    .dataframe tbody tr th:only-of-type {\n",
       "        vertical-align: middle;\n",
       "    }\n",
       "\n",
       "    .dataframe tbody tr th {\n",
       "        vertical-align: top;\n",
       "    }\n",
       "\n",
       "    .dataframe thead th {\n",
       "        text-align: right;\n",
       "    }\n",
       "</style>\n",
       "<table border=\"1\" class=\"dataframe\">\n",
       "  <thead>\n",
       "    <tr style=\"text-align: right;\">\n",
       "      <th></th>\n",
       "      <th>count</th>\n",
       "      <th>ethnicities</th>\n",
       "      <th>% ethnicity</th>\n",
       "    </tr>\n",
       "  </thead>\n",
       "  <tbody>\n",
       "    <tr>\n",
       "      <th>0</th>\n",
       "      <td>473</td>\n",
       "      <td>African_American</td>\n",
       "      <td>43.959108</td>\n",
       "    </tr>\n",
       "    <tr>\n",
       "      <th>5</th>\n",
       "      <td>408</td>\n",
       "      <td>white</td>\n",
       "      <td>37.918216</td>\n",
       "    </tr>\n",
       "    <tr>\n",
       "      <th>2</th>\n",
       "      <td>110</td>\n",
       "      <td>Hispanic</td>\n",
       "      <td>10.223048</td>\n",
       "    </tr>\n",
       "    <tr>\n",
       "      <th>4</th>\n",
       "      <td>82</td>\n",
       "      <td>Other</td>\n",
       "      <td>7.620818</td>\n",
       "    </tr>\n",
       "    <tr>\n",
       "      <th>1</th>\n",
       "      <td>3</td>\n",
       "      <td>Asian</td>\n",
       "      <td>0.278810</td>\n",
       "    </tr>\n",
       "    <tr>\n",
       "      <th>3</th>\n",
       "      <td>0</td>\n",
       "      <td>Native_American</td>\n",
       "      <td>0.000000</td>\n",
       "    </tr>\n",
       "  </tbody>\n",
       "</table>\n",
       "</div>"
      ],
      "text/plain": [
       "   count       ethnicities  % ethnicity\n",
       "0    473  African_American    43.959108\n",
       "5    408             white    37.918216\n",
       "2    110          Hispanic    10.223048\n",
       "4     82             Other     7.620818\n",
       "1      3             Asian     0.278810\n",
       "3      0   Native_American     0.000000"
      ]
     },
     "execution_count": 31,
     "metadata": {},
     "output_type": "execute_result"
    }
   ],
   "source": [
    "#constructing a dataframe from the dictionary obtained above\n",
    "\n",
    "norient=pd.DataFrame.from_dict(lst1, orient='index', dtype=None, columns=['count'])\n",
    "norient['ethnicities']=norient.index\n",
    "norient['% ethnicity']=(norient['count']/norient['count'].sum())*100\n",
    "norient.reset_index(drop=True, inplace=True)\n",
    "norient.sort_values(by=['% ethnicity'], ascending=False)"
   ]
  },
  {
   "cell_type": "code",
   "execution_count": 32,
   "metadata": {},
   "outputs": [
    {
     "data": {
      "text/plain": [
       "<AxesSubplot:xlabel='ethnicities', ylabel='% ethnicity'>"
      ]
     },
     "execution_count": 32,
     "metadata": {},
     "output_type": "execute_result"
    },
    {
     "data": {
      "image/png": "[encoded data removed]",
      "text/plain": [
       "<Figure size 432x288 with 1 Axes>"
      ]
     },
     "metadata": {
      "needs_background": "light"
     },
     "output_type": "display_data"
    }
   ],
   "source": [
    "sns.barplot(x=norient['ethnicities'], y=orient['% ethnicity'])"
   ]
  },
  {
   "cell_type": "markdown",
   "metadata": {},
   "source": [
    "## Analysis of age\n"
   ]
  },
  {
   "cell_type": "code",
   "execution_count": 33,
   "metadata": {},
   "outputs": [
    {
     "name": "stdout",
     "output_type": "stream",
     "text": [
      "Age_Above_FourtyFive: 54.34 %\n",
      "Age_Below_TwentyFive: 45.66 %\n"
     ]
    }
   ],
   "source": [
    "ageng=ng[['Age_Above_FourtyFive','Age_Below_TwentyFive']]\n",
    "print(\"Age_Above_FourtyFive:\",np.round(ageng.Age_Above_FourtyFive.sum()/(ageng.Age_Above_FourtyFive.sum()+ageng.Age_Below_TwentyFive.sum())*100,2),\"%\")\n",
    "print(\"Age_Below_TwentyFive:\",np.round(ageng.Age_Below_TwentyFive.sum()/(ageng.Age_Above_FourtyFive.sum()+ageng.Age_Below_TwentyFive.sum())*100,2),\"%\")"
   ]
  },
  {
   "cell_type": "markdown",
   "metadata": {},
   "source": [
    "### Correlation plot on the entire dataframe"
   ]
  },
  {
   "cell_type": "code",
   "execution_count": 34,
   "metadata": {},
   "outputs": [
    {
     "data": {
      "text/plain": [
       "<AxesSubplot:>"
      ]
     },
     "execution_count": 34,
     "metadata": {},
     "output_type": "execute_result"
    },
    {
     "data": {
      "image/png": "[encoded data removed]",
      "text/plain": [
       "<Figure size 792x648 with 2 Axes>"
      ]
     },
     "metadata": {
      "needs_background": "light"
     },
     "output_type": "display_data"
    }
   ],
   "source": [
    "corr = df.corr()\n",
    "# Set up the matplotlib figure\n",
    "f, ax = plt.subplots(figsize=(11, 9))\n",
    "\n",
    "# Generate a custom diverging colormap\n",
    "cmap = sns.diverging_palette(230, 20, as_cmap=True)\n",
    "\n",
    "# Draw the heatmap with the mask and correct aspect ratio\n",
    "sns.heatmap(corr, cmap=cmap, vmax=.3, center=0,\n",
    "            square=True, linewidths=.5, cbar_kws={\"shrink\": .5})"
   ]
  },
  {
   "cell_type": "markdown",
   "metadata": {},
   "source": [
    "## Analysis of gender"
   ]
  },
  {
   "cell_type": "code",
   "execution_count": 35,
   "metadata": {},
   "outputs": [
    {
     "data": {
      "text/plain": [
       "0    909\n",
       "1    167\n",
       "Name: Female, dtype: int64"
      ]
     },
     "execution_count": 35,
     "metadata": {},
     "output_type": "execute_result"
    }
   ],
   "source": [
    "ng.Female.value_counts()"
   ]
  },
  {
   "cell_type": "code",
   "execution_count": 36,
   "metadata": {},
   "outputs": [
    {
     "data": {
      "text/plain": [
       "0    788\n",
       "1    230\n",
       "Name: Female, dtype: int64"
      ]
     },
     "execution_count": 36,
     "metadata": {},
     "output_type": "execute_result"
    }
   ],
   "source": [
    "g.Female.value_counts()"
   ]
  }
 ],
 "metadata": {
  "kernelspec": {
   "display_name": "Python 3",
   "language": "python",
   "name": "python3"
  },
  "language_info": {
   "codemirror_mode": {
    "name": "ipython",
    "version": 3
   },
   "file_extension": ".py",
   "mimetype": "text/x-python",
   "name": "python",
   "nbconvert_exporter": "python",
   "pygments_lexer": "ipython3",
   "version": "3.8.6"
  }
 },
 "nbformat": 4,
 "nbformat_minor": 4
}
